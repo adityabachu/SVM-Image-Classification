{
 "cells": [
  {
   "cell_type": "code",
   "execution_count": 4,
   "id": "8afb03fa",
   "metadata": {},
   "outputs": [],
   "source": [
    "from sklearn.model_selection import train_test_split\n",
    "from sklearn.neighbors import KNeighborsClassifier\n",
    "from sklearn.svm import SVC\n",
    "import numpy\n",
    "import cv2\n",
    "import os\n",
    "import glob"
   ]
  },
  {
   "cell_type": "code",
   "execution_count": 5,
   "id": "596bad92",
   "metadata": {},
   "outputs": [],
   "source": [
    "imagePaths = []\n",
    "# input images\n",
    "for img in glob.glob(\"C:/Users/varun/OneDrive/Desktop/FIDM PBL -2/Data/*.jpg\"): \n",
    "    imagePaths = list(glob.glob(\"C:/Users/varun/OneDrive/Desktop/FIDM PBL -2/Data/*.jpg\"))"
   ]
  },
  {
   "cell_type": "code",
   "execution_count": 8,
   "id": "c9abfc7e",
   "metadata": {},
   "outputs": [],
   "source": [
    "# Extract the image into vector\n",
    "def image_vector(image, size=(128, 128)):\n",
    "    return cv2.resize(image, size).flatten()"
   ]
  },
  {
   "cell_type": "code",
   "execution_count": 9,
   "id": "e8e15040",
   "metadata": {},
   "outputs": [],
   "source": [
    "# initialize the pixel intensities matrix, labels list\n",
    "imagematrix = []\n",
    "imagelabels = []\n",
    "pixels = None\n",
    "# Build image vector matrix\n",
    "for (i, path) in enumerate(imagePaths):\n",
    "    # load the image and extract the class label, image intensities\n",
    "    image = cv2.imread(path)\n",
    "    label = path.split(os.path.sep)[-1].split(\".\")[0]\n",
    "    pixels = image_vector(image)\n",
    "\n",
    "    # update the images and labels matricies respectively\n",
    "    imagematrix.append(pixels)\n",
    "    imagelabels.append(label)\n",
    "\n",
    "imagematrix = numpy.array(imagematrix)\n",
    "imagelabels = numpy.array(imagelabels)\n",
    "\n",
    "# save numpy arrays for future use\n",
    "numpy.save(\"matrix.npy\", imagematrix)\n",
    "numpy.save(\"labels.npy\", imagelabels)"
   ]
  },
  {
   "cell_type": "code",
   "execution_count": 10,
   "id": "f89fe617",
   "metadata": {},
   "outputs": [],
   "source": [
    "imagematrix = numpy.load(\"matrix.npy\")\n",
    "imagelabels = numpy.load(\"labels.npy\")"
   ]
  },
  {
   "cell_type": "code",
   "execution_count": 11,
   "id": "80f579ec",
   "metadata": {},
   "outputs": [],
   "source": [
    "# Prepare data for training and testing\n",
    "(train_img, test_img, train_label, test_label) = train_test_split(imagematrix, imagelabels, test_size=0.2, random_state=50)"
   ]
  },
  {
   "cell_type": "code",
   "execution_count": 16,
   "id": "5c080590",
   "metadata": {},
   "outputs": [
    {
     "data": {
      "text/plain": [
       "SVC(class_weight='balanced', kernel='linear')"
      ]
     },
     "execution_count": 16,
     "metadata": {},
     "output_type": "execute_result"
    }
   ],
   "source": [
    "'''SVM MODEL IN SKLEARN'''\n",
    "model1 = SVC(max_iter=-1, kernel='linear', class_weight='balanced',gamma='scale')\n",
    "model1.fit(train_img, train_label)"
   ]
  },
  {
   "cell_type": "code",
   "execution_count": null,
   "id": "d6ab6f54",
   "metadata": {},
   "outputs": [],
   "source": []
  }
 ],
 "metadata": {
  "kernelspec": {
   "display_name": "Python 3",
   "language": "python",
   "name": "python3"
  },
  "language_info": {
   "codemirror_mode": {
    "name": "ipython",
    "version": 3
   },
   "file_extension": ".py",
   "mimetype": "text/x-python",
   "name": "python",
   "nbconvert_exporter": "python",
   "pygments_lexer": "ipython3",
   "version": "3.8.8"
  }
 },
 "nbformat": 4,
 "nbformat_minor": 5
}
